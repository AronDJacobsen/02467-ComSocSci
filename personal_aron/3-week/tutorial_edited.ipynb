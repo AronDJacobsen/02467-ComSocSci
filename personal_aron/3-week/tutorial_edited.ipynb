{
 "cells": [
  {
   "cell_type": "markdown",
   "id": "a8f093a4",
   "metadata": {},
   "source": [
    "## Tutorial\n",
    "\n",
    "This guide can help you start working with NetworkX.\n",
    "\n",
    "### Creating a graph\n",
    "\n",
    "Create an empty graph with no nodes and no edges."
   ]
  },
  {
   "cell_type": "code",
   "execution_count": 55,
   "id": "9e13f1b2",
   "metadata": {
    "execution": {
     "iopub.execute_input": "2021-07-27T02:23:29.183739Z",
     "iopub.status.busy": "2021-07-27T02:23:29.183284Z",
     "iopub.status.idle": "2021-07-27T02:23:29.250780Z",
     "shell.execute_reply": "2021-07-27T02:23:29.250246Z"
    }
   },
   "outputs": [],
   "source": [
    "import networkx as nx\n",
    "G = nx.Graph()"
   ]
  },
  {
   "cell_type": "markdown",
   "id": "71d41728",
   "metadata": {},
   "source": [
    "By definition, a `Graph` is a collection of nodes (vertices) along with\n",
    "identified pairs of nodes (called edges, links, etc).  In NetworkX, nodes can\n",
    "be any [hashable](https://docs.python.org/3/glossary.html#term-hashable) object e.g., a text string, an image, an XML object,\n",
    "another Graph, a customized node object, etc.\n",
    "\n",
    "# Nodes\n",
    "\n",
    "The graph `G` can be grown in several ways.  NetworkX includes many graph\n",
    "generator functions and facilities to read and write graphs in many formats.\n",
    "To get started though we’ll look at simple manipulations.  You can add one node\n",
    "at a time,"
   ]
  },
  {
   "cell_type": "code",
   "execution_count": 56,
   "id": "ac3e5021",
   "metadata": {
    "execution": {
     "iopub.execute_input": "2021-07-27T02:23:29.255557Z",
     "iopub.status.busy": "2021-07-27T02:23:29.254392Z",
     "iopub.status.idle": "2021-07-27T02:23:29.256093Z",
     "shell.execute_reply": "2021-07-27T02:23:29.256473Z"
    }
   },
   "outputs": [
    {
     "name": "stdout",
     "output_type": "stream",
     "text": [
      "Graph with 1 nodes and 0 edges\n"
     ]
    }
   ],
   "source": [
    "G.add_node(1)\n",
    "print(G)"
   ]
  },
  {
   "cell_type": "markdown",
   "id": "ccab6db2",
   "metadata": {},
   "source": [
    "or add nodes from any [iterable](https://docs.python.org/3/glossary.html#term-iterable) container, such as a list"
   ]
  },
  {
   "cell_type": "code",
   "execution_count": 57,
   "id": "34d1aec9",
   "metadata": {
    "execution": {
     "iopub.execute_input": "2021-07-27T02:23:29.260860Z",
     "iopub.status.busy": "2021-07-27T02:23:29.259745Z",
     "iopub.status.idle": "2021-07-27T02:23:29.261400Z",
     "shell.execute_reply": "2021-07-27T02:23:29.261785Z"
    }
   },
   "outputs": [
    {
     "name": "stdout",
     "output_type": "stream",
     "text": [
      "[1, 2, 3]\n"
     ]
    }
   ],
   "source": [
    "G.add_nodes_from([2, 3])\n",
    "print(G.nodes)"
   ]
  },
  {
   "cell_type": "markdown",
   "id": "ebe1aba5",
   "metadata": {},
   "source": [
    "You can also add nodes along with node\n",
    "attributes if your container yields 2-tuples of the form\n",
    "`(node, node_attribute_dict)`:\n",
    "\n",
    "```\n",
    ">>> G.add_nodes_from([\n",
    "...     (4, {\"color\": \"red\"}),\n",
    "...     (5, {\"color\": \"green\"}),\n",
    "... ])\n",
    "```\n",
    "\n",
    "Node attributes are discussed further below.\n",
    "\n",
    "Nodes from one graph can be incorporated into another:"
   ]
  },
  {
   "cell_type": "code",
   "execution_count": 58,
   "id": "f772a6e1",
   "metadata": {},
   "outputs": [
    {
     "name": "stdout",
     "output_type": "stream",
     "text": [
      "{'color': 'red'}\n",
      "red\n"
     ]
    }
   ],
   "source": [
    "G.add_nodes_from([\n",
    "    (4, {\"color\": \"red\"}),\n",
    "    (5, {\"color\": \"green\"}),\n",
    "])\n",
    "#now as a dicitonary\n",
    "print(G.nodes[4])\n",
    "print(G.nodes[4]['color'])"
   ]
  },
  {
   "cell_type": "code",
   "execution_count": 59,
   "id": "a5cb1a04",
   "metadata": {
    "execution": {
     "iopub.execute_input": "2021-07-27T02:23:29.266563Z",
     "iopub.status.busy": "2021-07-27T02:23:29.265504Z",
     "iopub.status.idle": "2021-07-27T02:23:29.267095Z",
     "shell.execute_reply": "2021-07-27T02:23:29.267470Z"
    }
   },
   "outputs": [
    {
     "name": "stdout",
     "output_type": "stream",
     "text": [
      "Graph with 10 nodes and 0 edges\n"
     ]
    }
   ],
   "source": [
    "H = nx.path_graph(10)\n",
    "G.add_nodes_from(H)\n",
    "print(G)"
   ]
  },
  {
   "cell_type": "code",
   "execution_count": 78,
   "id": "fe1ec20e",
   "metadata": {},
   "outputs": [
    {
     "name": "stdout",
     "output_type": "stream",
     "text": [
      "Graph with 10 nodes and 9 edges\n",
      "[(0, 1), (1, 2), (2, 3), (3, 4), (4, 5), (5, 6), (6, 7), (7, 8), (8, 9)]\n"
     ]
    }
   ],
   "source": [
    "print(H) # we added like a 0-1-2-3-4-5 snake\n",
    "print(H.edges)"
   ]
  },
  {
   "cell_type": "markdown",
   "id": "ff8ba8a9",
   "metadata": {},
   "source": [
    "`G` now contains the nodes of `H` as nodes of `G`.\n",
    "In contrast, you could use the graph `H` as a node in `G`."
   ]
  },
  {
   "cell_type": "code",
   "execution_count": 60,
   "id": "9e261854",
   "metadata": {
    "execution": {
     "iopub.execute_input": "2021-07-27T02:23:29.271336Z",
     "iopub.status.busy": "2021-07-27T02:23:29.270342Z",
     "iopub.status.idle": "2021-07-27T02:23:29.271936Z",
     "shell.execute_reply": "2021-07-27T02:23:29.272315Z"
    }
   },
   "outputs": [
    {
     "name": "stdout",
     "output_type": "stream",
     "text": [
      "Graph with 11 nodes and 0 edges\n"
     ]
    }
   ],
   "source": [
    "G.add_node(H)\n",
    "print(G)"
   ]
  },
  {
   "cell_type": "code",
   "execution_count": 61,
   "id": "2c3618b8",
   "metadata": {},
   "outputs": [
    {
     "name": "stdout",
     "output_type": "stream",
     "text": [
      "[1, 2, 3, 4, 5, 0, 6, 7, 8, 9, <networkx.classes.graph.Graph object at 0x7fafd8716220>]\n"
     ]
    }
   ],
   "source": [
    "print(G.nodes) # now it became an 'object'"
   ]
  },
  {
   "cell_type": "markdown",
   "id": "603d4143",
   "metadata": {},
   "source": [
    "The graph `G` now contains `H` as a node.  This flexibility is very powerful as\n",
    "it allows graphs of graphs, graphs of files, graphs of functions and much more.\n",
    "It is worth thinking about how to structure your application so that the nodes\n",
    "are useful entities.  Of course you can always use a unique identifier in `G`\n",
    "and have a separate dictionary keyed by identifier to the node information if\n",
    "you prefer.\n",
    "\n",
    "# Edges\n",
    "\n",
    "`G` can also be grown by adding one edge at a time,"
   ]
  },
  {
   "cell_type": "code",
   "execution_count": 66,
   "id": "529cef33",
   "metadata": {},
   "outputs": [
    {
     "name": "stdout",
     "output_type": "stream",
     "text": [
      "[]\n"
     ]
    }
   ],
   "source": [
    "print(G.edges)"
   ]
  },
  {
   "cell_type": "code",
   "execution_count": 69,
   "id": "7bc8c713",
   "metadata": {
    "execution": {
     "iopub.execute_input": "2021-07-27T02:23:29.276392Z",
     "iopub.status.busy": "2021-07-27T02:23:29.275438Z",
     "iopub.status.idle": "2021-07-27T02:23:29.276936Z",
     "shell.execute_reply": "2021-07-27T02:23:29.277316Z"
    }
   },
   "outputs": [
    {
     "name": "stdout",
     "output_type": "stream",
     "text": [
      "[(1, 2)]\n",
      "Graph with 11 nodes and 1 edges\n"
     ]
    }
   ],
   "source": [
    "G.add_edge(1, 2)\n",
    "print(G.edges)\n",
    "print(G)"
   ]
  },
  {
   "cell_type": "code",
   "execution_count": 71,
   "id": "eb30b441",
   "metadata": {
    "scrolled": true
   },
   "outputs": [
    {
     "name": "stdout",
     "output_type": "stream",
     "text": [
      "[(1, 2), (2, 3)]\n"
     ]
    }
   ],
   "source": [
    "e = (2, 3)\n",
    "G.add_edge(*e)  # unpack edge tuple*\n",
    "print(G.edges)\n",
    "# fx goes from node 1 to node 2"
   ]
  },
  {
   "cell_type": "markdown",
   "id": "a9906183",
   "metadata": {},
   "source": [
    "by adding a list of edges,"
   ]
  },
  {
   "cell_type": "code",
   "execution_count": 72,
   "id": "6bcab65d",
   "metadata": {
    "execution": {
     "iopub.execute_input": "2021-07-27T02:23:29.281269Z",
     "iopub.status.busy": "2021-07-27T02:23:29.280243Z",
     "iopub.status.idle": "2021-07-27T02:23:29.281876Z",
     "shell.execute_reply": "2021-07-27T02:23:29.282254Z"
    }
   },
   "outputs": [
    {
     "name": "stdout",
     "output_type": "stream",
     "text": [
      "[(1, 2), (1, 3), (2, 3)]\n"
     ]
    }
   ],
   "source": [
    "G.add_edges_from([(1, 2), (1, 3)])\n",
    "print(G.edges)\n",
    "#edge 1,2 was already contained"
   ]
  },
  {
   "cell_type": "code",
   "execution_count": 79,
   "id": "ea9b4228",
   "metadata": {},
   "outputs": [
    {
     "name": "stdout",
     "output_type": "stream",
     "text": [
      "[(0, 1), (1, 2), (2, 3), (3, 4), (4, 5), (5, 6), (6, 7), (7, 8), (8, 9)]\n"
     ]
    }
   ],
   "source": [
    "print(H.edges)"
   ]
  },
  {
   "cell_type": "markdown",
   "id": "6f3a02c7",
   "metadata": {},
   "source": [
    "or by adding any ebunch of edges.  An *ebunch* is any iterable\n",
    "container of edge-tuples.  An edge-tuple can be a 2-tuple of nodes or a 3-tuple\n",
    "with 2 nodes followed by an edge attribute dictionary, e.g.,\n",
    "`(2, 3, {'weight': 3.1415})`.  Edge attributes are discussed further\n",
    "below."
   ]
  },
  {
   "cell_type": "code",
   "execution_count": 73,
   "id": "46ba6249",
   "metadata": {
    "execution": {
     "iopub.execute_input": "2021-07-27T02:23:29.286002Z",
     "iopub.status.busy": "2021-07-27T02:23:29.284985Z",
     "iopub.status.idle": "2021-07-27T02:23:29.286535Z",
     "shell.execute_reply": "2021-07-27T02:23:29.286916Z"
    }
   },
   "outputs": [
    {
     "name": "stdout",
     "output_type": "stream",
     "text": [
      "[(1, 2), (1, 3), (1, 0), (2, 3), (3, 4), (4, 5), (5, 6), (6, 7), (7, 8), (8, 9)]\n"
     ]
    }
   ],
   "source": [
    "G.add_edges_from(H.edges)\n",
    "print(G.edges)"
   ]
  },
  {
   "cell_type": "markdown",
   "id": "f267f777",
   "metadata": {},
   "source": [
    "There are no complaints when adding existing nodes or edges. For example,\n",
    "after removing all nodes and edges,"
   ]
  },
  {
   "cell_type": "code",
   "execution_count": 86,
   "id": "f0a39c70",
   "metadata": {
    "execution": {
     "iopub.execute_input": "2021-07-27T02:23:29.290611Z",
     "iopub.status.busy": "2021-07-27T02:23:29.289589Z",
     "iopub.status.idle": "2021-07-27T02:23:29.291142Z",
     "shell.execute_reply": "2021-07-27T02:23:29.291521Z"
    }
   },
   "outputs": [
    {
     "name": "stdout",
     "output_type": "stream",
     "text": [
      "Graph with 0 nodes and 0 edges\n"
     ]
    }
   ],
   "source": [
    "G.clear()\n",
    "print(G)"
   ]
  },
  {
   "cell_type": "markdown",
   "id": "6f28aa75",
   "metadata": {},
   "source": [
    "we add new nodes/edges and NetworkX quietly ignores any that are\n",
    "already present."
   ]
  },
  {
   "cell_type": "code",
   "execution_count": 87,
   "id": "ae95a7a3",
   "metadata": {
    "execution": {
     "iopub.execute_input": "2021-07-27T02:23:29.295816Z",
     "iopub.status.busy": "2021-07-27T02:23:29.295007Z",
     "iopub.status.idle": "2021-07-27T02:23:29.296503Z",
     "shell.execute_reply": "2021-07-27T02:23:29.296900Z"
    }
   },
   "outputs": [
    {
     "name": "stdout",
     "output_type": "stream",
     "text": [
      "Graph with 3 nodes and 2 edges\n",
      "Graph with 8 nodes and 3 edges\n"
     ]
    }
   ],
   "source": [
    "G.add_edges_from([(1, 2), (1, 3)])\n",
    "print(G)\n",
    "G.add_node(1)\n",
    "G.add_edge(1, 2)\n",
    "G.add_node(\"spam\")        # adds node \"spam\"\n",
    "G.add_nodes_from(\"spam\")  # adds 4 nodes: 's', 'p', 'a', 'm'\n",
    "G.add_edge(3, 'm')\n",
    "print(G)"
   ]
  },
  {
   "cell_type": "code",
   "execution_count": 89,
   "id": "a8aad04c",
   "metadata": {},
   "outputs": [
    {
     "name": "stdout",
     "output_type": "stream",
     "text": [
      "[1, 2, 3, 'spam', 's', 'p', 'a', 'm']\n",
      "[(1, 2), (1, 3), (3, 'm')]\n"
     ]
    }
   ],
   "source": [
    "print(G.nodes)\n",
    "print(G.edges)"
   ]
  },
  {
   "cell_type": "markdown",
   "id": "c0345dfe",
   "metadata": {},
   "source": [
    "At this stage the graph `G` consists of 8 nodes and 3 edges, as can be seen by:"
   ]
  },
  {
   "cell_type": "code",
   "execution_count": 91,
   "id": "9565cf0d",
   "metadata": {
    "execution": {
     "iopub.execute_input": "2021-07-27T02:23:29.304948Z",
     "iopub.status.busy": "2021-07-27T02:23:29.304457Z",
     "iopub.status.idle": "2021-07-27T02:23:29.306668Z",
     "shell.execute_reply": "2021-07-27T02:23:29.307045Z"
    }
   },
   "outputs": [
    {
     "name": "stdout",
     "output_type": "stream",
     "text": [
      "8\n",
      "3\n"
     ]
    }
   ],
   "source": [
    "print(G.number_of_nodes())\n",
    "print(G.number_of_edges())"
   ]
  },
  {
   "cell_type": "code",
   "execution_count": 94,
   "id": "67a2b7b8",
   "metadata": {
    "execution": {
     "iopub.execute_input": "2021-07-27T02:23:29.312282Z",
     "iopub.status.busy": "2021-07-27T02:23:29.311257Z",
     "iopub.status.idle": "2021-07-27T02:23:29.312817Z",
     "shell.execute_reply": "2021-07-27T02:23:29.313197Z"
    }
   },
   "outputs": [
    {
     "name": "stdout",
     "output_type": "stream",
     "text": [
      "[2, 1, 3, 4]\n",
      "[(2, 1), (2, 4), (1, 3), (1, 2)]\n"
     ]
    }
   ],
   "source": [
    "DG = nx.DiGraph()\n",
    "DG.add_edge(2, 1)   # adds the nodes in order 2, 1\n",
    "DG.add_edge(1, 3)\n",
    "DG.add_edge(2, 4)\n",
    "DG.add_edge(1, 2)\n",
    "print(DG.nodes)\n",
    "print(DG.edges) # so the way the arrow points matters"
   ]
  },
  {
   "cell_type": "code",
   "execution_count": 96,
   "id": "a3f080b5",
   "metadata": {},
   "outputs": [],
   "source": [
    "# assert checks if true, else raises error\n",
    "assert list(DG.successors(2)) == [1, 4] # node 2 leads to node 1 and node 4, they are its successor\n",
    "# and node 2 are their predecessors\n",
    "assert list(DG.edges) == [(2, 1), (2, 4), (1, 3), (1, 2)] # true look above"
   ]
  },
  {
   "cell_type": "markdown",
   "id": "6e8b7eee",
   "metadata": {},
   "source": [
    "# Examining elements of a graph\n",
    "\n",
    "We can examine the nodes and edges. Four basic graph properties facilitate\n",
    "reporting: `G.nodes`, `G.edges`, `G.adj` and `G.degree`.  These\n",
    "are set-like views of the nodes, edges, neighbors (adjacencies), and degrees\n",
    "of nodes in a graph. They offer a continually updated read-only view into\n",
    "the graph structure. They are also dict-like in that you can look up node\n",
    "and edge data attributes via the views and iterate with data attributes\n",
    "using methods `.items()`, `.data('span')`.\n",
    "If you want a specific container type instead of a view, you can specify one.\n",
    "Here we use lists, though sets, dicts, tuples and other containers may be\n",
    "better in other contexts."
   ]
  },
  {
   "cell_type": "code",
   "execution_count": 108,
   "id": "53d934b9",
   "metadata": {
    "execution": {
     "iopub.execute_input": "2021-07-27T02:23:29.318130Z",
     "iopub.status.busy": "2021-07-27T02:23:29.317164Z",
     "iopub.status.idle": "2021-07-27T02:23:29.319975Z",
     "shell.execute_reply": "2021-07-27T02:23:29.319586Z"
    }
   },
   "outputs": [
    {
     "name": "stdout",
     "output_type": "stream",
     "text": [
      "[1, 2, 3, 'spam', 's', 'p', 'a', 'm']\n",
      "[(1, 2), (1, 3), (3, 'm')]\n",
      "[2, 3]\n",
      "2\n"
     ]
    }
   ],
   "source": [
    "print(list(G.nodes))\n",
    "print(list(G.edges))\n",
    "print(list(G.adj[1]))  # or list(G.neighbors(1)), neighbours of node 1\n",
    "print(G.degree[1])  # the number of edges incident to 1, node 1 has 2 degrees(edges)"
   ]
  },
  {
   "cell_type": "code",
   "execution_count": 124,
   "id": "8c68b789",
   "metadata": {},
   "outputs": [],
   "source": [
    "G.add_nodes_from([(4, {\"color\": \"red\"})])"
   ]
  },
  {
   "cell_type": "code",
   "execution_count": 128,
   "id": "74322a47",
   "metadata": {},
   "outputs": [
    {
     "name": "stdout",
     "output_type": "stream",
     "text": [
      "dict_items([('color', 'red')])\n"
     ]
    }
   ],
   "source": [
    "print(G.nodes[4].items())"
   ]
  },
  {
   "cell_type": "markdown",
   "id": "b7987a3a",
   "metadata": {},
   "source": [
    "One can specify to report the edges and degree from a subset of all nodes\n",
    "using an nbunch. An *nbunch* is any of: `None` (meaning all nodes),\n",
    "a node, or an iterable container of nodes that is not itself a node in the\n",
    "graph."
   ]
  },
  {
   "cell_type": "code",
   "execution_count": 130,
   "id": "93ea9214",
   "metadata": {},
   "outputs": [
    {
     "name": "stdout",
     "output_type": "stream",
     "text": [
      "[(1, 2), (1, 3), (3, 'm')]\n"
     ]
    }
   ],
   "source": [
    "print(G.edges)"
   ]
  },
  {
   "cell_type": "code",
   "execution_count": 129,
   "id": "8bd38a8b",
   "metadata": {
    "execution": {
     "iopub.execute_input": "2021-07-27T02:23:29.323969Z",
     "iopub.status.busy": "2021-07-27T02:23:29.323510Z",
     "iopub.status.idle": "2021-07-27T02:23:29.325660Z",
     "shell.execute_reply": "2021-07-27T02:23:29.326022Z"
    }
   },
   "outputs": [
    {
     "data": {
      "text/plain": [
       "EdgeDataView([(2, 1), ('m', 3)])"
      ]
     },
     "execution_count": 129,
     "metadata": {},
     "output_type": "execute_result"
    }
   ],
   "source": [
    "G.edges([2, 'm']) # where do these nodes lead"
   ]
  },
  {
   "cell_type": "code",
   "execution_count": 131,
   "id": "52fc168e",
   "metadata": {},
   "outputs": [
    {
     "data": {
      "text/plain": [
       "DegreeView({2: 1, 3: 2})"
      ]
     },
     "execution_count": 131,
     "metadata": {},
     "output_type": "execute_result"
    }
   ],
   "source": [
    "G.degree([2, 3]) # degress of many nodes at a time"
   ]
  },
  {
   "cell_type": "markdown",
   "id": "498b407c",
   "metadata": {},
   "source": [
    "# Removing elements from a graph\n",
    "\n",
    "One can remove nodes and edges from the graph in a similar fashion to adding.\n",
    "Use methods\n",
    "`Graph.remove_node()`,\n",
    "`Graph.remove_nodes_from()`,\n",
    "`Graph.remove_edge()`\n",
    "and\n",
    "`Graph.remove_edges_from()`, e.g."
   ]
  },
  {
   "cell_type": "code",
   "execution_count": 139,
   "id": "07a35fc9",
   "metadata": {
    "execution": {
     "iopub.execute_input": "2021-07-27T02:23:29.330094Z",
     "iopub.status.busy": "2021-07-27T02:23:29.329112Z",
     "iopub.status.idle": "2021-07-27T02:23:29.330692Z",
     "shell.execute_reply": "2021-07-27T02:23:29.331060Z"
    }
   },
   "outputs": [
    {
     "name": "stdout",
     "output_type": "stream",
     "text": [
      "[1, 3, 'spam', 4, 2]\n",
      "[(1, 2), (1, 3)]\n",
      "[1, 3, 'spam', 4]\n",
      "[(1, 3)]\n",
      "[1, 3, 'spam', 4]\n"
     ]
    }
   ],
   "source": [
    "print(G.nodes)\n",
    "print(G.edges)\n",
    "\n",
    "G.remove_node(2)\n",
    "print(G.nodes)\n",
    "print(G.edges)\n",
    "# we also lose the edge when removing the node, well trivial\n",
    "\n",
    "G.remove_nodes_from(\"spam\") # remember 's', 'p'... when _from\n",
    "print(list(G.nodes))"
   ]
  },
  {
   "cell_type": "code",
   "execution_count": 140,
   "id": "668cf9a9",
   "metadata": {},
   "outputs": [
    {
     "name": "stdout",
     "output_type": "stream",
     "text": [
      "[]\n"
     ]
    }
   ],
   "source": [
    "#G.add_edges_from([(1,3),(1,2)])\n",
    "G.remove_edge(1,3)\n",
    "print(list(G.edges))"
   ]
  },
  {
   "cell_type": "code",
   "execution_count": 141,
   "id": "f3f203f8",
   "metadata": {},
   "outputs": [
    {
     "name": "stdout",
     "output_type": "stream",
     "text": [
      "[1, 3, 'spam', 4]\n"
     ]
    }
   ],
   "source": [
    "print(G.nodes) # still has the nodes though"
   ]
  },
  {
   "cell_type": "markdown",
   "id": "df8261e4",
   "metadata": {},
   "source": [
    "# Using the graph constructors\n",
    "\n",
    "Graph objects do not have to be built up incrementally - data specifying\n",
    "graph structure can be passed directly to the constructors of the various\n",
    "graph classes.\n",
    "When creating a graph structure by instantiating one of the graph\n",
    "classes you can specify data in several formats."
   ]
  },
  {
   "cell_type": "code",
   "execution_count": 144,
   "id": "948deb8d",
   "metadata": {
    "execution": {
     "iopub.execute_input": "2021-07-27T02:23:29.334932Z",
     "iopub.status.busy": "2021-07-27T02:23:29.334485Z",
     "iopub.status.idle": "2021-07-27T02:23:29.596717Z",
     "shell.execute_reply": "2021-07-27T02:23:29.595829Z"
    }
   },
   "outputs": [
    {
     "name": "stdout",
     "output_type": "stream",
     "text": [
      "[(1, 2)]\n",
      "[(1, 2), (2, 1)]\n",
      "[1, 3, 'spam', 4, 2]\n"
     ]
    }
   ],
   "source": [
    "G.add_edge(1, 2)\n",
    "print(G.edges)\n",
    "H = nx.DiGraph(G)   # create a DiGraph using the connections from G\n",
    "print(list(H.edges())) # goes both ways because it does that in G\n",
    "print(list(H.nodes()))"
   ]
  },
  {
   "cell_type": "code",
   "execution_count": 148,
   "id": "b41ce88d",
   "metadata": {},
   "outputs": [
    {
     "name": "stdout",
     "output_type": "stream",
     "text": [
      "[(0, 1), (1, 2), (2, 3)]\n"
     ]
    }
   ],
   "source": [
    "edgelist = [(0, 1), (1, 2), (2, 3)]\n",
    "H = nx.Graph(edgelist) # now its just a graph\n",
    "print(H.edges)"
   ]
  },
  {
   "cell_type": "markdown",
   "id": "18e89700",
   "metadata": {},
   "source": [
    "# What to use as nodes and edges\n",
    "\n",
    "You might notice that nodes and edges are not specified as NetworkX\n",
    "objects.  This leaves you free to use meaningful items as nodes and\n",
    "edges. The most common choices are numbers or strings, but a node can\n",
    "be any hashable object (except `None`), and an edge can be associated\n",
    "with any object `x` using `G.add_edge(n1, n2, object=x)`.\n",
    "\n",
    "As an example, `n1` and `n2` could be protein objects from the RCSB Protein\n",
    "Data Bank, and `x` could refer to an XML record of publications detailing\n",
    "experimental observations of their interaction.\n",
    "\n",
    "We have found this power quite useful, but its abuse\n",
    "can lead to surprising behavior unless one is familiar with Python.\n",
    "If in doubt, consider using `convert_node_labels_to_integers()` to obtain\n",
    "a more traditional graph with integer labels.\n",
    "\n",
    "# Accessing edges and neighbors\n",
    "\n",
    "In addition to the views `Graph.edges`, and `Graph.adj`,\n",
    "access to edges and neighbors is possible using subscript notation."
   ]
  },
  {
   "cell_type": "code",
   "execution_count": 165,
   "id": "bed4eb39",
   "metadata": {
    "execution": {
     "iopub.execute_input": "2021-07-27T02:23:29.601972Z",
     "iopub.status.busy": "2021-07-27T02:23:29.601507Z",
     "iopub.status.idle": "2021-07-27T02:23:29.605943Z",
     "shell.execute_reply": "2021-07-27T02:23:29.605564Z"
    }
   },
   "outputs": [
    {
     "name": "stdout",
     "output_type": "stream",
     "text": [
      "{'color': 'yellow'}\n"
     ]
    }
   ],
   "source": [
    "G = nx.Graph([(1, 2, {\"color\": \"yellow\"})])"
   ]
  },
  {
   "cell_type": "code",
   "execution_count": 152,
   "id": "b6988344",
   "metadata": {},
   "outputs": [
    {
     "name": "stdout",
     "output_type": "stream",
     "text": [
      "{2: {'color': 'yellow'}}\n",
      "{'color': 'yellow'}\n",
      "{'color': 'yellow'}\n"
     ]
    }
   ],
   "source": [
    "print(G[1])  # same as G.adj[1]\n",
    "print(G[1][2])\n",
    "print(G.edges[1, 2]) # so \"color\": \"yellow\" is the edge, fx like a weight 0.3312"
   ]
  },
  {
   "cell_type": "markdown",
   "id": "d9278457",
   "metadata": {},
   "source": [
    "You can get/set the attributes of an edge using subscript notation\n",
    "if the edge already exists."
   ]
  },
  {
   "cell_type": "code",
   "execution_count": 166,
   "id": "49645943",
   "metadata": {
    "execution": {
     "iopub.execute_input": "2021-07-27T02:23:29.610340Z",
     "iopub.status.busy": "2021-07-27T02:23:29.609895Z",
     "iopub.status.idle": "2021-07-27T02:23:29.613835Z",
     "shell.execute_reply": "2021-07-27T02:23:29.614206Z"
    }
   },
   "outputs": [
    {
     "data": {
      "text/plain": [
       "{'color': 'red'}"
      ]
     },
     "execution_count": 166,
     "metadata": {},
     "output_type": "execute_result"
    }
   ],
   "source": [
    "G.add_edge(1, 3)\n",
    "G[1][3]['color'] = \"blue\"\n",
    "G.edges[1, 2]['color'] = \"red\"\n",
    "G.edges[1, 2]"
   ]
  },
  {
   "cell_type": "code",
   "execution_count": 168,
   "id": "ce29ae8b",
   "metadata": {},
   "outputs": [
    {
     "name": "stdout",
     "output_type": "stream",
     "text": [
      "{'color': 'blue'}\n"
     ]
    }
   ],
   "source": [
    "print(G.edges[1,3])"
   ]
  },
  {
   "cell_type": "markdown",
   "id": "665be316",
   "metadata": {},
   "source": [
    "Fast examination of all (node, adjacency) pairs is achieved using\n",
    "`G.adjacency()`, or `G.adj.items()`.\n",
    "Note that for undirected graphs, adjacency iteration sees each edge twice."
   ]
  },
  {
   "cell_type": "code",
   "execution_count": 172,
   "id": "37a1044e",
   "metadata": {
    "execution": {
     "iopub.execute_input": "2021-07-27T02:23:29.619227Z",
     "iopub.status.busy": "2021-07-27T02:23:29.618417Z",
     "iopub.status.idle": "2021-07-27T02:23:29.622319Z",
     "shell.execute_reply": "2021-07-27T02:23:29.621892Z"
    }
   },
   "outputs": [
    {
     "name": "stdout",
     "output_type": "stream",
     "text": [
      "(1, 2, 0.125)\n",
      "(2, 1, 0.125)\n",
      "(3, 4, 0.375)\n",
      "(4, 3, 0.375)\n"
     ]
    }
   ],
   "source": [
    "FG = nx.Graph()\n",
    "FG.add_weighted_edges_from([(1, 2, 0.125), (1, 3, 0.75), (2, 4, 1.2), (3, 4, 0.375)])\n",
    "for n, nbrs in FG.adj.items(): # n is node fx 1 and nbrs are neighbours\n",
    "   for nbr, eattr in nbrs.items(): # for each neighbour\n",
    "       wt = eattr['weight']\n",
    "       if wt < 0.5: # notice edge 1 to 3 is not printed\n",
    "        print(f\"({n}, {nbr}, {wt:.3})\")"
   ]
  },
  {
   "cell_type": "markdown",
   "id": "2ec9af35",
   "metadata": {},
   "source": [
    "Convenient access to all edges is achieved with the edges property."
   ]
  },
  {
   "cell_type": "code",
   "execution_count": 173,
   "id": "6e5a6afb",
   "metadata": {
    "execution": {
     "iopub.execute_input": "2021-07-27T02:23:29.626331Z",
     "iopub.status.busy": "2021-07-27T02:23:29.625553Z",
     "iopub.status.idle": "2021-07-27T02:23:29.629473Z",
     "shell.execute_reply": "2021-07-27T02:23:29.629079Z"
    }
   },
   "outputs": [
    {
     "name": "stdout",
     "output_type": "stream",
     "text": [
      "(1, 2, 0.125)\n",
      "(3, 4, 0.375)\n"
     ]
    }
   ],
   "source": [
    "for (u, v, wt) in FG.edges.data('weight'):\n",
    "    if wt < 0.5:\n",
    "        print(f\"({u}, {v}, {wt:.3})\")\n",
    "# prettier and with no recursion of the same"
   ]
  },
  {
   "cell_type": "markdown",
   "id": "8652372f",
   "metadata": {},
   "source": [
    "# Adding attributes to graphs, nodes, and edges\n",
    "\n",
    "Attributes such as weights, labels, colors, or whatever Python object you like,\n",
    "can be attached to graphs, nodes, or edges.\n",
    "\n",
    "Each graph, node, and edge can hold key/value attribute pairs in an associated\n",
    "attribute dictionary (the keys must be hashable).  By default these are empty,\n",
    "but attributes can be added or changed using `add_edge`, `add_node` or direct\n",
    "manipulation of the attribute dictionaries named `G.graph`, `G.nodes`, and\n",
    "`G.edges` for a graph `G`.\n",
    "\n",
    "## Graph attributes\n",
    "\n",
    "Assign graph attributes when creating a new graph"
   ]
  },
  {
   "cell_type": "code",
   "execution_count": 188,
   "id": "0ac3f5c8",
   "metadata": {
    "execution": {
     "iopub.execute_input": "2021-07-27T02:23:29.633155Z",
     "iopub.status.busy": "2021-07-27T02:23:29.632708Z",
     "iopub.status.idle": "2021-07-27T02:23:29.635753Z",
     "shell.execute_reply": "2021-07-27T02:23:29.635145Z"
    }
   },
   "outputs": [
    {
     "data": {
      "text/plain": [
       "{'day': 'Friday'}"
      ]
     },
     "execution_count": 188,
     "metadata": {},
     "output_type": "execute_result"
    }
   ],
   "source": [
    "G = nx.Graph(day=\"Friday\")\n",
    "G.graph"
   ]
  },
  {
   "cell_type": "code",
   "execution_count": 189,
   "id": "cd54e415",
   "metadata": {},
   "outputs": [
    {
     "name": "stdout",
     "output_type": "stream",
     "text": [
      "[]\n",
      "[]\n"
     ]
    }
   ],
   "source": [
    "print(G.nodes)\n",
    "print(G.edges)"
   ]
  },
  {
   "cell_type": "markdown",
   "id": "589f52ea",
   "metadata": {},
   "source": [
    "Or you can modify attributes later"
   ]
  },
  {
   "cell_type": "code",
   "execution_count": 190,
   "id": "43c656cd",
   "metadata": {
    "execution": {
     "iopub.execute_input": "2021-07-27T02:23:29.639115Z",
     "iopub.status.busy": "2021-07-27T02:23:29.638679Z",
     "iopub.status.idle": "2021-07-27T02:23:29.642774Z",
     "shell.execute_reply": "2021-07-27T02:23:29.643117Z"
    }
   },
   "outputs": [
    {
     "data": {
      "text/plain": [
       "{'day': 'Monday'}"
      ]
     },
     "execution_count": 190,
     "metadata": {},
     "output_type": "execute_result"
    }
   ],
   "source": [
    "G.graph['day'] = \"Monday\"\n",
    "G.graph"
   ]
  },
  {
   "cell_type": "markdown",
   "id": "6390f2c3",
   "metadata": {},
   "source": [
    "# Node attributes\n",
    "\n",
    "Add node attributes using `add_node()`, `add_nodes_from()`, or `G.nodes`"
   ]
  },
  {
   "cell_type": "code",
   "execution_count": 208,
   "id": "0ee65697",
   "metadata": {
    "execution": {
     "iopub.execute_input": "2021-07-27T02:23:29.647599Z",
     "iopub.status.busy": "2021-07-27T02:23:29.647161Z",
     "iopub.status.idle": "2021-07-27T02:23:29.651055Z",
     "shell.execute_reply": "2021-07-27T02:23:29.651395Z"
    }
   },
   "outputs": [
    {
     "name": "stdout",
     "output_type": "stream",
     "text": [
      "{'time': '5pm'}\n",
      "{'time': '2pm'}\n",
      "[(1, {'time': '5pm', 'room': 714}), (3, {'time': '2pm'})]\n"
     ]
    }
   ],
   "source": [
    "G = nx.Graph()\n",
    "\n",
    "G.add_node(1, time='5pm')\n",
    "print(G.nodes[1])\n",
    "\n",
    "G.add_nodes_from([3], time='2pm')\n",
    "print(G.nodes[3]) # now they have that attribute/meta data\n",
    "\n",
    "G.nodes[1]['room'] = 714\n",
    "print(G.nodes.data())"
   ]
  },
  {
   "cell_type": "code",
   "execution_count": 197,
   "id": "3801458e",
   "metadata": {},
   "outputs": [
    {
     "name": "stdout",
     "output_type": "stream",
     "text": [
      "[]\n"
     ]
    }
   ],
   "source": [
    "print(G.edges)"
   ]
  },
  {
   "cell_type": "markdown",
   "id": "aae8b81e",
   "metadata": {},
   "source": [
    "Note that adding a node to `G.nodes` does not add it to the graph, use\n",
    "`G.add_node()` to add new nodes. Similarly for edges.\n",
    "\n",
    "# Edge Attributes\n",
    "\n",
    "Add/change edge attributes using `add_edge()`, `add_edges_from()`,\n",
    "or subscript notation."
   ]
  },
  {
   "cell_type": "code",
   "execution_count": 212,
   "id": "479a0322",
   "metadata": {
    "execution": {
     "iopub.execute_input": "2021-07-27T02:23:29.655754Z",
     "iopub.status.busy": "2021-07-27T02:23:29.655313Z",
     "iopub.status.idle": "2021-07-27T02:23:29.657874Z",
     "shell.execute_reply": "2021-07-27T02:23:29.658217Z"
    }
   },
   "outputs": [
    {
     "name": "stdout",
     "output_type": "stream",
     "text": [
      "{'weight': 4.7, 'color': 'blue'}\n",
      "[(1, 2), (3, 4), (3, 2), (4, 5)]\n",
      "{'color': 'red', 'weight': 4.2}\n"
     ]
    }
   ],
   "source": [
    "# ways to add attributes to edges\n",
    "\n",
    "G.add_edge(1, 2, weight=4.7 )\n",
    "print(G.edges[1,2])\n",
    "\n",
    "G.add_edges_from([(3, 4), (4, 5)], color='red')\n",
    "G.add_edges_from([(1, 2, {'color': 'blue'}), (2, 3, {'weight': 8})])\n",
    "G[1][2]['weight'] = 4.7\n",
    "G.edges[3, 4]['weight'] = 4.2\n",
    "\n",
    "print(G.edges)\n",
    "print(G.edges[3,4]) # the color and weight\n"
   ]
  },
  {
   "cell_type": "markdown",
   "id": "50ea6422",
   "metadata": {},
   "source": [
    "The special attribute `weight` should be numeric as it is used by\n",
    "algorithms requiring weighted edges.\n",
    "\n",
    " Directed graphs\n",
    "\n",
    "The `DiGraph` class provides additional methods and properties specific\n",
    "to directed edges, e.g.,\n",
    "`DiGraph.out_edges`, `DiGraph.in_degree`,\n",
    "`DiGraph.predecessors()`, `DiGraph.successors()` etc.\n",
    "To allow algorithms to work with both classes easily, the directed versions of\n",
    "`neighbors()` is equivalent to `successors()` while `degree` reports\n",
    "the sum of `in_degree` and `out_degree` even though that may feel\n",
    "inconsistent at times."
   ]
  },
  {
   "cell_type": "code",
   "execution_count": 219,
   "id": "8de86e7d",
   "metadata": {
    "execution": {
     "iopub.execute_input": "2021-07-27T02:23:29.663683Z",
     "iopub.status.busy": "2021-07-27T02:23:29.663222Z",
     "iopub.status.idle": "2021-07-27T02:23:29.665480Z",
     "shell.execute_reply": "2021-07-27T02:23:29.665844Z"
    }
   },
   "outputs": [
    {
     "name": "stdout",
     "output_type": "stream",
     "text": [
      "[(1, 2), (3, 1)]\n",
      "0.5\n",
      "1.25\n",
      "[2]\n",
      "[2]\n"
     ]
    }
   ],
   "source": [
    "DG = nx.DiGraph()\n",
    "DG.add_weighted_edges_from([(1, 2, 0.5), (3, 1, 0.75)])\n",
    "print(DG.edges)\n",
    "\n",
    "print(DG.out_degree(1, weight='weight')) # the sum of weights out are 0.5\n",
    "print(DG.degree(1, weight='weight')) # the sum of in and out are 0.5+0.75\n",
    "print(list(DG.successors(1))) # 2 is a successor\n",
    "print(list(DG.neighbors(1))) # its the same as successor"
   ]
  },
  {
   "cell_type": "markdown",
   "id": "0e4ddb9f",
   "metadata": {},
   "source": [
    "Some algorithms work only for directed graphs and others are not well\n",
    "defined for directed graphs.  Indeed the tendency to lump directed\n",
    "and undirected graphs together is dangerous.  If you want to treat\n",
    "a directed graph as undirected for some measurement you should probably\n",
    "convert it using `Graph.to_undirected()` or with"
   ]
  },
  {
   "cell_type": "code",
   "execution_count": 220,
   "id": "29d0c301",
   "metadata": {
    "execution": {
     "iopub.execute_input": "2021-07-27T02:23:29.669816Z",
     "iopub.status.busy": "2021-07-27T02:23:29.669014Z",
     "iopub.status.idle": "2021-07-27T02:23:29.670488Z",
     "shell.execute_reply": "2021-07-27T02:23:29.670853Z"
    }
   },
   "outputs": [],
   "source": [
    "H = nx.Graph(G)  # create an undirected graph H from a directed graph G"
   ]
  },
  {
   "cell_type": "markdown",
   "id": "5be96010",
   "metadata": {},
   "source": [
    "# Multigraphs\n",
    "\n",
    "NetworkX provides classes for graphs which allow multiple edges\n",
    "between any pair of nodes.  The `MultiGraph` and\n",
    "`MultiDiGraph`\n",
    "classes allow you to add the same edge twice, possibly with different\n",
    "edge data.  This can be powerful for some applications, but many\n",
    "algorithms are not well defined on such graphs.\n",
    "Where results are well defined,\n",
    "e.g., `MultiGraph.degree()` we provide the function.  Otherwise you\n",
    "should convert to a standard graph in a way that makes the measurement\n",
    "well defined."
   ]
  },
  {
   "cell_type": "code",
   "execution_count": 221,
   "id": "e94bee40",
   "metadata": {
    "execution": {
     "iopub.execute_input": "2021-07-27T02:23:29.677214Z",
     "iopub.status.busy": "2021-07-27T02:23:29.676750Z",
     "iopub.status.idle": "2021-07-27T02:23:29.679121Z",
     "shell.execute_reply": "2021-07-27T02:23:29.679489Z"
    }
   },
   "outputs": [
    {
     "name": "stdout",
     "output_type": "stream",
     "text": [
      "{1: 1.25, 2: 1.75, 3: 0.5}\n"
     ]
    }
   ],
   "source": [
    "MG = nx.MultiGraph() # it is not directed, so goes both ways, fx node 3 has 2 as neighbour, adj\n",
    "MG.add_weighted_edges_from([(1, 2, 0.5), (1, 2, 0.75), (2, 3, 0.5)])\n",
    "print(dict(MG.degree(weight='weight'))) # degree sums in and out, fx node has 1 0.5 + 0.75 = 1.25"
   ]
  },
  {
   "cell_type": "code",
   "execution_count": 237,
   "id": "33cf0fe5",
   "metadata": {},
   "outputs": [
    {
     "name": "stdout",
     "output_type": "stream",
     "text": [
      "[1, 2, 3]\n",
      "[(1, 2, 0), (1, 2, 1), (2, 3, 0)]\n",
      "{0: {'weight': 0.5}, 1: {'weight': 0.75}}\n"
     ]
    }
   ],
   "source": [
    "print(MG.nodes)\n",
    "print(MG.edges) # 0 and 1 are just the node for the two edges/weights\n",
    "print(MG[1][2]) # we have two edges for same node"
   ]
  },
  {
   "cell_type": "code",
   "execution_count": 241,
   "id": "570f5c73",
   "metadata": {},
   "outputs": [
    {
     "name": "stdout",
     "output_type": "stream",
     "text": [
      "[1, 2, 3]\n"
     ]
    }
   ],
   "source": [
    "GG = nx.Graph() # initialize\n",
    "\n",
    "for n, nbrs in MG.adjacency(): # for every node and neighbours\n",
    "    \n",
    "   for nbr, edict in nbrs.items(): # for this nodes neighbours, where edict is the possible edges, fx 1-2 has 2 egdges\n",
    "    \n",
    "       minvalue = min([d['weight'] for d in edict.values()]) # what edge has the minimum value\n",
    "       GG.add_edge(n, nbr, weight = minvalue) # if nodes have two edges, add the one with minimum value\n",
    "\n",
    "path = nx.shortest_path(GG, 1, 3) # well, you have to go from 1-2-3 hehe, but \n",
    "print(path)\n",
    "# can we get the cost also?"
   ]
  },
  {
   "cell_type": "markdown",
   "id": "e6dec648",
   "metadata": {},
   "source": [
    "# Graph generators and graph operations\n",
    "\n",
    "In addition to constructing graphs node-by-node or edge-by-edge, they\n",
    "can also be generated by\n",
    "\n",
    "1. Applying classic graph operations, such as:\n",
    "\n",
    "1. Using a call to one of the classic small graphs, e.g.,\n",
    "\n",
    "1. Using a (constructive) generator for a classic graph, e.g.,\n",
    "\n",
    "like so:"
   ]
  },
  {
   "cell_type": "code",
   "execution_count": 252,
   "id": "f1f4b2b0",
   "metadata": {
    "execution": {
     "iopub.execute_input": "2021-07-27T02:23:29.684610Z",
     "iopub.status.busy": "2021-07-27T02:23:29.683818Z",
     "iopub.status.idle": "2021-07-27T02:23:29.685501Z",
     "shell.execute_reply": "2021-07-27T02:23:29.685842Z"
    }
   },
   "outputs": [
    {
     "name": "stdout",
     "output_type": "stream",
     "text": [
      "Graph with 5 nodes and 10 edges\n",
      "Graph named 'complete_bipartite_graph(3,5)' with 8 nodes and 15 edges\n",
      "Graph with 20 nodes and 91 edges\n",
      "Graph with 30 nodes and 65 edges\n"
     ]
    }
   ],
   "source": [
    "K_5 = nx.complete_graph(5)\n",
    "print(K_5) # every node is connected to each other\n",
    "K_3_5 = nx.complete_bipartite_graph(3, 5)\n",
    "print(K_3_5) # two rows, each node in top connected to all below, 3 and 5, for all on top edges= 5+5+5\n",
    "barbell = nx.barbell_graph(10, 10)\n",
    "print(barbell) # two complete 10 node graphs connected by 10 edges (a barbell :), if (10,0) then connected by 1 edge\n",
    "lollipop = nx.lollipop_graph(10, 20)\n",
    "print(lollipop) # a lollipop, 10 node complete(45 edges) and 10 long out as stick"
   ]
  },
  {
   "cell_type": "markdown",
   "id": "0bf30fd6",
   "metadata": {},
   "source": [
    "1. Using a stochastic graph generator, e.g,\n",
    "\n",
    "like so:"
   ]
  },
  {
   "cell_type": "code",
   "execution_count": 253,
   "id": "6cd12541",
   "metadata": {
    "execution": {
     "iopub.execute_input": "2021-07-27T02:23:29.705141Z",
     "iopub.status.busy": "2021-07-27T02:23:29.698036Z",
     "iopub.status.idle": "2021-07-27T02:23:29.707256Z",
     "shell.execute_reply": "2021-07-27T02:23:29.706853Z"
    }
   },
   "outputs": [
    {
     "name": "stdout",
     "output_type": "stream",
     "text": [
      "Graph with 100 nodes and 717 edges\n",
      "Graph with 30 nodes and 30 edges\n",
      "Graph with 100 nodes and 475 edges\n",
      "Graph with 13782 nodes and 13781 edges\n"
     ]
    }
   ],
   "source": [
    "er = nx.erdos_renyi_graph(100, 0.15)\n",
    "print(er)\n",
    "ws = nx.watts_strogatz_graph(30, 3, 0.1)\n",
    "print(ws)\n",
    "ba = nx.barabasi_albert_graph(100, 5)\n",
    "print(ba)\n",
    "red = nx.random_lobster(100, 0.9, 0.9)\n",
    "print(red)\n",
    "#jaja you get the idea, differnt graphs"
   ]
  },
  {
   "cell_type": "markdown",
   "id": "773a43e2",
   "metadata": {},
   "source": [
    "1. Reading a graph stored in a file using common graph formats,\n",
    "   such as edge lists, adjacency lists, GML, GraphML, pickle, LEDA and others."
   ]
  },
  {
   "cell_type": "code",
   "execution_count": 257,
   "id": "f87f25db",
   "metadata": {
    "execution": {
     "iopub.execute_input": "2021-07-27T02:23:29.710772Z",
     "iopub.status.busy": "2021-07-27T02:23:29.710331Z",
     "iopub.status.idle": "2021-07-27T02:23:30.280334Z",
     "shell.execute_reply": "2021-07-27T02:23:30.279817Z"
    }
   },
   "outputs": [],
   "source": [
    "\n",
    "nx.write_gml(red, \"graph_saved\")\n",
    "mygraph = nx.read_gml(\"graph_saved\")"
   ]
  },
  {
   "cell_type": "markdown",
   "id": "b64c3c84",
   "metadata": {},
   "source": [
    "For details on graph formats see Reading and writing graphs\n",
    "and for graph generator functions see Graph generators\n",
    "\n",
    "# Analyzing graphs\n",
    "\n",
    "The structure of `G` can be analyzed using various graph-theoretic\n",
    "functions such as:"
   ]
  },
  {
   "cell_type": "code",
   "execution_count": 261,
   "id": "b4c09f11",
   "metadata": {
    "execution": {
     "iopub.execute_input": "2021-07-27T02:23:30.287060Z",
     "iopub.status.busy": "2021-07-27T02:23:30.286400Z",
     "iopub.status.idle": "2021-07-27T02:23:30.288687Z",
     "shell.execute_reply": "2021-07-27T02:23:30.289078Z"
    }
   },
   "outputs": [
    {
     "name": "stdout",
     "output_type": "stream",
     "text": [
      "[{1, 2, 3}, {'spam'}]\n",
      "[(1, 2), (2, 1), (3, 1), ('spam', 0)]\n",
      "[0, 1, 1, 2]\n",
      "{1: 0, 2: 0, 3: 0, 'spam': 0}\n"
     ]
    }
   ],
   "source": [
    "G = nx.Graph()\n",
    "G.add_edges_from([(1, 2), (1, 3)])\n",
    "G.add_node(\"spam\")       # adds node \"spam\"\n",
    "\n",
    "print(list(nx.connected_components(G)))\n",
    "\n",
    "print(G.degree()) # for node \n",
    "\n",
    "print(sorted(d for n, d in G.degree())) # for node n it has d degress (fx node 1 has 2 deg), just sorted\n",
    "\n",
    "print(nx.clustering(G)) # taken: For unweighted graphs, the clustering of a node is the fraction of possible triangles through that node that exist,\n",
    "# 0 triangles exist"
   ]
  },
  {
   "cell_type": "markdown",
   "id": "fc97c720",
   "metadata": {},
   "source": [
    "Some functions with large output iterate over (node, value) 2-tuples.\n",
    "These are easily stored in a [dict](https://docs.python.org/3/library/stdtypes.html#dict) structure if you desire."
   ]
  },
  {
   "cell_type": "code",
   "execution_count": 265,
   "id": "13e42707",
   "metadata": {
    "execution": {
     "iopub.execute_input": "2021-07-27T02:23:30.293638Z",
     "iopub.status.busy": "2021-07-27T02:23:30.293175Z",
     "iopub.status.idle": "2021-07-27T02:23:30.295487Z",
     "shell.execute_reply": "2021-07-27T02:23:30.295852Z"
    }
   },
   "outputs": [
    {
     "name": "stdout",
     "output_type": "stream",
     "text": [
      "[1, 2, 3, 'spam']\n",
      "[(1, 2), (1, 3)]\n",
      "{3: [3], 1: [3, 1], 2: [3, 1, 2]}\n"
     ]
    }
   ],
   "source": [
    "print(G.nodes)\n",
    "\n",
    "print(G.edges)\n",
    "\n",
    "sp = dict(nx.all_pairs_shortest_path(G))\n",
    "\n",
    "print(sp[3]) # node 3 shortest path to all other, fx to node 2 it 3-1-2 because 3-2 doesn't exist"
   ]
  },
  {
   "cell_type": "markdown",
   "id": "f7b01b07",
   "metadata": {},
   "source": [
    "See Algorithms for details on graph algorithms\n",
    "supported.\n",
    "\n",
    "# Drawing graphs\n",
    "\n",
    "NetworkX is not primarily a graph drawing package but basic drawing with\n",
    "Matplotlib as well as an interface to use the open source Graphviz software\n",
    "package are included.  These are part of the `networkx.drawing` module and will\n",
    "be imported if possible.\n",
    "\n",
    "First import Matplotlib’s plot interface (pylab works too)"
   ]
  },
  {
   "cell_type": "code",
   "execution_count": 279,
   "id": "a4a174e1",
   "metadata": {
    "execution": {
     "iopub.execute_input": "2021-07-27T02:23:30.299201Z",
     "iopub.status.busy": "2021-07-27T02:23:30.298757Z",
     "iopub.status.idle": "2021-07-27T02:23:30.517307Z",
     "shell.execute_reply": "2021-07-27T02:23:30.516813Z"
    }
   },
   "outputs": [],
   "source": [
    "import matplotlib.pyplot as plt"
   ]
  },
  {
   "cell_type": "markdown",
   "id": "fba9b6f5",
   "metadata": {},
   "source": [
    "To test if the import of `networkx.drawing` was successful draw `G` using one of"
   ]
  },
  {
   "cell_type": "code",
   "execution_count": 280,
   "id": "db1ed000",
   "metadata": {
    "execution": {
     "iopub.execute_input": "2021-07-27T02:23:30.533636Z",
     "iopub.status.busy": "2021-07-27T02:23:30.533161Z",
     "iopub.status.idle": "2021-07-27T02:23:30.666417Z",
     "shell.execute_reply": "2021-07-27T02:23:30.666854Z"
    }
   },
   "outputs": [
    {
     "data": {
      "image/png": "[encoded data removed]",
      "text/plain": [
       "<Figure size 432x288 with 2 Axes>"
      ]
     },
     "metadata": {},
     "output_type": "display_data"
    }
   ],
   "source": [
    "G = nx.petersen_graph()\n",
    "subax1 = plt.subplot(121)\n",
    "nx.draw(G, with_labels=True, font_weight='bold')\n",
    "subax2 = plt.subplot(122)\n",
    "nx.draw_shell(G, nlist=[range(5, 10), range(5)], with_labels=True, font_weight='bold')\n",
    "# different layouts, _shell"
   ]
  },
  {
   "cell_type": "markdown",
   "id": "23bb9872",
   "metadata": {},
   "source": [
    "when drawing to an interactive display.  Note that you may need to issue a\n",
    "Matplotlib"
   ]
  },
  {
   "cell_type": "code",
   "execution_count": 281,
   "id": "04a61842",
   "metadata": {
    "execution": {
     "iopub.execute_input": "2021-07-27T02:23:30.671359Z",
     "iopub.status.busy": "2021-07-27T02:23:30.670331Z",
     "iopub.status.idle": "2021-07-27T02:23:30.671872Z",
     "shell.execute_reply": "2021-07-27T02:23:30.672235Z"
    }
   },
   "outputs": [],
   "source": [
    "plt.show()"
   ]
  },
  {
   "cell_type": "markdown",
   "id": "02180adf",
   "metadata": {},
   "source": [
    "command if you are not using matplotlib in interactive mode (see\n",
    "[this Matplotlib FAQ](https://matplotlib.org/stable/faq/installing_faq.html))."
   ]
  },
  {
   "cell_type": "code",
   "execution_count": 282,
   "id": "537662cd",
   "metadata": {
    "execution": {
     "iopub.execute_input": "2021-07-27T02:23:30.695371Z",
     "iopub.status.busy": "2021-07-27T02:23:30.689863Z",
     "iopub.status.idle": "2021-07-27T02:23:30.858517Z",
     "shell.execute_reply": "2021-07-27T02:23:30.858109Z"
    }
   },
   "outputs": [
    {
     "data": {
      "image/png": "[encoded data removed]",
      "text/plain": [
       "<Figure size 432x288 with 4 Axes>"
      ]
     },
     "metadata": {},
     "output_type": "display_data"
    }
   ],
   "source": [
    "options = {\n",
    "    'node_color': 'black',\n",
    "    'node_size': 100,\n",
    "    'width': 3,\n",
    "}\n",
    "subax1 = plt.subplot(221)\n",
    "nx.draw_random(G, **options)\n",
    "subax2 = plt.subplot(222)\n",
    "nx.draw_circular(G, **options)\n",
    "subax3 = plt.subplot(223)\n",
    "nx.draw_spectral(G, **options)\n",
    "subax4 = plt.subplot(224)\n",
    "nx.draw_shell(G, nlist=[range(5,10), range(5)], **options)\n",
    "# shells are like, node 5 to 10 is outer, then 1-5 is inner"
   ]
  },
  {
   "cell_type": "markdown",
   "id": "41b713c4",
   "metadata": {},
   "source": [
    "You can find additional options via `draw_networkx()` and\n",
    "layouts via `layout`.\n",
    "You can use multiple shells with `draw_shell()`."
   ]
  },
  {
   "cell_type": "code",
   "execution_count": 273,
   "id": "5d2c9f09",
   "metadata": {
    "execution": {
     "iopub.execute_input": "2021-07-27T02:23:30.875589Z",
     "iopub.status.busy": "2021-07-27T02:23:30.869207Z",
     "iopub.status.idle": "2021-07-27T02:23:30.939308Z",
     "shell.execute_reply": "2021-07-27T02:23:30.938371Z"
    }
   },
   "outputs": [
    {
     "data": {
      "image/png": "[encoded data removed]",
      "text/plain": [
       "<Figure size 432x288 with 1 Axes>"
      ]
     },
     "metadata": {},
     "output_type": "display_data"
    }
   ],
   "source": [
    "G = nx.dodecahedral_graph()\n",
    "shells = [[2, 3, 4, 5, 6], [8, 1, 0, 19, 18, 17, 16, 15, 14, 7], [9, 10, 11, 12, 13]]\n",
    "# now we have 3 shells\n",
    "nx.draw_shell(G, nlist=shells, **options)"
   ]
  },
  {
   "cell_type": "markdown",
   "id": "69275433",
   "metadata": {},
   "source": [
    "To save drawings to a file, use, for example"
   ]
  },
  {
   "cell_type": "code",
   "execution_count": 283,
   "id": "199da666",
   "metadata": {
    "execution": {
     "iopub.execute_input": "2021-07-27T02:23:30.956771Z",
     "iopub.status.busy": "2021-07-27T02:23:30.954342Z",
     "iopub.status.idle": "2021-07-27T02:23:31.054274Z",
     "shell.execute_reply": "2021-07-27T02:23:31.053845Z"
    }
   },
   "outputs": [
    {
     "data": {
      "image/png": "[encoded data removed]",
      "text/plain": [
       "<Figure size 432x288 with 1 Axes>"
      ]
     },
     "metadata": {},
     "output_type": "display_data"
    }
   ],
   "source": [
    "nx.draw(G)\n",
    "plt.savefig(\"path.png\")"
   ]
  },
  {
   "cell_type": "markdown",
   "id": "251b67ca",
   "metadata": {},
   "source": [
    "writes to the file `path.png` in the local directory. If Graphviz and\n",
    "PyGraphviz or pydot, are available on your system, you can also use\n",
    "`nx_agraph.graphviz_layout(G)` or `nx_pydot.graphviz_layout(G)` to get the\n",
    "node positions, or write the graph in dot format for further processing."
   ]
  },
  {
   "cell_type": "code",
   "execution_count": 286,
   "id": "84af5b6d",
   "metadata": {
    "execution": {
     "iopub.execute_input": "2021-07-27T02:23:31.059062Z",
     "iopub.status.busy": "2021-07-27T02:23:31.058301Z",
     "iopub.status.idle": "2021-07-27T02:23:31.228682Z",
     "shell.execute_reply": "2021-07-27T02:23:31.228237Z"
    }
   },
   "outputs": [
    {
     "ename": "ValueError",
     "evalue": "Program neato not found in path.",
     "output_type": "error",
     "traceback": [
      "\u001b[0;31m---------------------------------------------------------------------------\u001b[0m",
      "\u001b[0;31mValueError\u001b[0m                                Traceback (most recent call last)",
      "\u001b[0;32m~/opt/anaconda3/envs/comsocsci2022/lib/python3.8/site-packages/pygraphviz/agraph.py\u001b[0m in \u001b[0;36m_get_prog\u001b[0;34m(self, prog)\u001b[0m\n\u001b[1;32m   1355\u001b[0m         \u001b[0;32mtry\u001b[0m\u001b[0;34m:\u001b[0m  \u001b[0;31m# user must pick one of the graphviz programs...\u001b[0m\u001b[0;34m\u001b[0m\u001b[0;34m\u001b[0m\u001b[0m\n\u001b[0;32m-> 1356\u001b[0;31m             \u001b[0mrunprog\u001b[0m \u001b[0;34m=\u001b[0m \u001b[0mself\u001b[0m\u001b[0;34m.\u001b[0m\u001b[0m_which\u001b[0m\u001b[0;34m(\u001b[0m\u001b[0mprog\u001b[0m\u001b[0;34m)\u001b[0m\u001b[0;34m\u001b[0m\u001b[0;34m\u001b[0m\u001b[0m\n\u001b[0m\u001b[1;32m   1357\u001b[0m         \u001b[0;32mexcept\u001b[0m\u001b[0;34m:\u001b[0m\u001b[0;34m\u001b[0m\u001b[0;34m\u001b[0m\u001b[0m\n",
      "\u001b[0;32m~/opt/anaconda3/envs/comsocsci2022/lib/python3.8/site-packages/pygraphviz/agraph.py\u001b[0m in \u001b[0;36m_which\u001b[0;34m(self, name)\u001b[0m\n\u001b[1;32m   1811\u001b[0m                 \u001b[0;32mreturn\u001b[0m \u001b[0mmatch\u001b[0m\u001b[0;34m[\u001b[0m\u001b[0;36m0\u001b[0m\u001b[0;34m]\u001b[0m\u001b[0;34m\u001b[0m\u001b[0;34m\u001b[0m\u001b[0m\n\u001b[0;32m-> 1812\u001b[0;31m         \u001b[0;32mraise\u001b[0m \u001b[0mValueError\u001b[0m\u001b[0;34m(\u001b[0m\u001b[0;34mf\"No prog {name} in path.\"\u001b[0m\u001b[0;34m)\u001b[0m\u001b[0;34m\u001b[0m\u001b[0;34m\u001b[0m\u001b[0m\n\u001b[0m\u001b[1;32m   1813\u001b[0m \u001b[0;34m\u001b[0m\u001b[0m\n",
      "\u001b[0;31mValueError\u001b[0m: No prog neato in path.",
      "\nDuring handling of the above exception, another exception occurred:\n",
      "\u001b[0;31mValueError\u001b[0m                                Traceback (most recent call last)",
      "\u001b[0;32m/var/folders/p0/2qnwrmjn7yd0ks7pnlb3d7mc0000gn/T/ipykernel_20803/2176706441.py\u001b[0m in \u001b[0;36m<module>\u001b[0;34m\u001b[0m\n\u001b[1;32m      1\u001b[0m \u001b[0;32mfrom\u001b[0m \u001b[0mnetworkx\u001b[0m\u001b[0;34m.\u001b[0m\u001b[0mdrawing\u001b[0m\u001b[0;34m.\u001b[0m\u001b[0mnx_pydot\u001b[0m \u001b[0;32mimport\u001b[0m \u001b[0mwrite_dot\u001b[0m\u001b[0;34m\u001b[0m\u001b[0;34m\u001b[0m\u001b[0m\n\u001b[0;32m----> 2\u001b[0;31m \u001b[0mpos\u001b[0m \u001b[0;34m=\u001b[0m \u001b[0mnx\u001b[0m\u001b[0;34m.\u001b[0m\u001b[0mnx_agraph\u001b[0m\u001b[0;34m.\u001b[0m\u001b[0mgraphviz_layout\u001b[0m\u001b[0;34m(\u001b[0m\u001b[0mG\u001b[0m\u001b[0;34m)\u001b[0m\u001b[0;34m\u001b[0m\u001b[0;34m\u001b[0m\u001b[0m\n\u001b[0m\u001b[1;32m      3\u001b[0m \u001b[0mnx\u001b[0m\u001b[0;34m.\u001b[0m\u001b[0mdraw\u001b[0m\u001b[0;34m(\u001b[0m\u001b[0mG\u001b[0m\u001b[0;34m,\u001b[0m \u001b[0mpos\u001b[0m\u001b[0;34m=\u001b[0m\u001b[0mpos\u001b[0m\u001b[0;34m)\u001b[0m\u001b[0;34m\u001b[0m\u001b[0;34m\u001b[0m\u001b[0m\n\u001b[1;32m      4\u001b[0m \u001b[0mwrite_dot\u001b[0m\u001b[0;34m(\u001b[0m\u001b[0mG\u001b[0m\u001b[0;34m,\u001b[0m \u001b[0;34m'file.dot'\u001b[0m\u001b[0;34m)\u001b[0m\u001b[0;34m\u001b[0m\u001b[0;34m\u001b[0m\u001b[0m\n\u001b[1;32m      5\u001b[0m \u001b[0;31m# saving in other file format\u001b[0m\u001b[0;34m\u001b[0m\u001b[0;34m\u001b[0m\u001b[0;34m\u001b[0m\u001b[0m\n",
      "\u001b[0;32m~/opt/anaconda3/envs/comsocsci2022/lib/python3.8/site-packages/networkx/drawing/nx_agraph.py\u001b[0m in \u001b[0;36mgraphviz_layout\u001b[0;34m(G, prog, root, args)\u001b[0m\n\u001b[1;32m    237\u001b[0m     \u001b[0mThis\u001b[0m \u001b[0;32mis\u001b[0m \u001b[0ma\u001b[0m \u001b[0mwrapper\u001b[0m \u001b[0;32mfor\u001b[0m \u001b[0mpygraphviz_layout\u001b[0m\u001b[0;34m.\u001b[0m\u001b[0;34m\u001b[0m\u001b[0;34m\u001b[0m\u001b[0m\n\u001b[1;32m    238\u001b[0m     \"\"\"\n\u001b[0;32m--> 239\u001b[0;31m     \u001b[0;32mreturn\u001b[0m \u001b[0mpygraphviz_layout\u001b[0m\u001b[0;34m(\u001b[0m\u001b[0mG\u001b[0m\u001b[0;34m,\u001b[0m \u001b[0mprog\u001b[0m\u001b[0;34m=\u001b[0m\u001b[0mprog\u001b[0m\u001b[0;34m,\u001b[0m \u001b[0mroot\u001b[0m\u001b[0;34m=\u001b[0m\u001b[0mroot\u001b[0m\u001b[0;34m,\u001b[0m \u001b[0margs\u001b[0m\u001b[0;34m=\u001b[0m\u001b[0margs\u001b[0m\u001b[0;34m)\u001b[0m\u001b[0;34m\u001b[0m\u001b[0;34m\u001b[0m\u001b[0m\n\u001b[0m\u001b[1;32m    240\u001b[0m \u001b[0;34m\u001b[0m\u001b[0m\n\u001b[1;32m    241\u001b[0m \u001b[0;34m\u001b[0m\u001b[0m\n",
      "\u001b[0;32m~/opt/anaconda3/envs/comsocsci2022/lib/python3.8/site-packages/networkx/drawing/nx_agraph.py\u001b[0m in \u001b[0;36mpygraphviz_layout\u001b[0;34m(G, prog, root, args)\u001b[0m\n\u001b[1;32m    285\u001b[0m         \u001b[0margs\u001b[0m \u001b[0;34m+=\u001b[0m \u001b[0;34mf\"-Groot={root}\"\u001b[0m\u001b[0;34m\u001b[0m\u001b[0;34m\u001b[0m\u001b[0m\n\u001b[1;32m    286\u001b[0m     \u001b[0mA\u001b[0m \u001b[0;34m=\u001b[0m \u001b[0mto_agraph\u001b[0m\u001b[0;34m(\u001b[0m\u001b[0mG\u001b[0m\u001b[0;34m)\u001b[0m\u001b[0;34m\u001b[0m\u001b[0;34m\u001b[0m\u001b[0m\n\u001b[0;32m--> 287\u001b[0;31m     \u001b[0mA\u001b[0m\u001b[0;34m.\u001b[0m\u001b[0mlayout\u001b[0m\u001b[0;34m(\u001b[0m\u001b[0mprog\u001b[0m\u001b[0;34m=\u001b[0m\u001b[0mprog\u001b[0m\u001b[0;34m,\u001b[0m \u001b[0margs\u001b[0m\u001b[0;34m=\u001b[0m\u001b[0margs\u001b[0m\u001b[0;34m)\u001b[0m\u001b[0;34m\u001b[0m\u001b[0;34m\u001b[0m\u001b[0m\n\u001b[0m\u001b[1;32m    288\u001b[0m     \u001b[0mnode_pos\u001b[0m \u001b[0;34m=\u001b[0m \u001b[0;34m{\u001b[0m\u001b[0;34m}\u001b[0m\u001b[0;34m\u001b[0m\u001b[0;34m\u001b[0m\u001b[0m\n\u001b[1;32m    289\u001b[0m     \u001b[0;32mfor\u001b[0m \u001b[0mn\u001b[0m \u001b[0;32min\u001b[0m \u001b[0mG\u001b[0m\u001b[0;34m:\u001b[0m\u001b[0;34m\u001b[0m\u001b[0;34m\u001b[0m\u001b[0m\n",
      "\u001b[0;32m~/opt/anaconda3/envs/comsocsci2022/lib/python3.8/site-packages/pygraphviz/agraph.py\u001b[0m in \u001b[0;36mlayout\u001b[0;34m(self, prog, args)\u001b[0m\n\u001b[1;32m   1476\u001b[0m         \"\"\"\n\u001b[1;32m   1477\u001b[0m         \u001b[0moutput_fmt\u001b[0m \u001b[0;34m=\u001b[0m \u001b[0;34m\"dot\"\u001b[0m\u001b[0;34m\u001b[0m\u001b[0;34m\u001b[0m\u001b[0m\n\u001b[0;32m-> 1478\u001b[0;31m         \u001b[0mdata\u001b[0m \u001b[0;34m=\u001b[0m \u001b[0mself\u001b[0m\u001b[0;34m.\u001b[0m\u001b[0m_run_prog\u001b[0m\u001b[0;34m(\u001b[0m\u001b[0mprog\u001b[0m\u001b[0;34m,\u001b[0m \u001b[0;34m\" \"\u001b[0m\u001b[0;34m.\u001b[0m\u001b[0mjoin\u001b[0m\u001b[0;34m(\u001b[0m\u001b[0;34m[\u001b[0m\u001b[0margs\u001b[0m\u001b[0;34m,\u001b[0m \u001b[0;34m\"-T\"\u001b[0m\u001b[0;34m,\u001b[0m \u001b[0moutput_fmt\u001b[0m\u001b[0;34m]\u001b[0m\u001b[0;34m)\u001b[0m\u001b[0;34m)\u001b[0m\u001b[0;34m\u001b[0m\u001b[0;34m\u001b[0m\u001b[0m\n\u001b[0m\u001b[1;32m   1479\u001b[0m         \u001b[0mself\u001b[0m\u001b[0;34m.\u001b[0m\u001b[0mfrom_string\u001b[0m\u001b[0;34m(\u001b[0m\u001b[0mdata\u001b[0m\u001b[0;34m)\u001b[0m\u001b[0;34m\u001b[0m\u001b[0;34m\u001b[0m\u001b[0m\n\u001b[1;32m   1480\u001b[0m         \u001b[0mself\u001b[0m\u001b[0;34m.\u001b[0m\u001b[0mhas_layout\u001b[0m \u001b[0;34m=\u001b[0m \u001b[0;32mTrue\u001b[0m\u001b[0;34m\u001b[0m\u001b[0;34m\u001b[0m\u001b[0m\n",
      "\u001b[0;32m~/opt/anaconda3/envs/comsocsci2022/lib/python3.8/site-packages/pygraphviz/agraph.py\u001b[0m in \u001b[0;36m_run_prog\u001b[0;34m(self, prog, args)\u001b[0m\n\u001b[1;32m   1370\u001b[0m         \u001b[0mUse\u001b[0m \u001b[0mkeyword\u001b[0m \u001b[0margs\u001b[0m \u001b[0mto\u001b[0m \u001b[0madd\u001b[0m \u001b[0madditional\u001b[0m \u001b[0marguments\u001b[0m \u001b[0mto\u001b[0m \u001b[0mgraphviz\u001b[0m \u001b[0mprograms\u001b[0m\u001b[0;34m.\u001b[0m\u001b[0;34m\u001b[0m\u001b[0;34m\u001b[0m\u001b[0m\n\u001b[1;32m   1371\u001b[0m         \"\"\"\n\u001b[0;32m-> 1372\u001b[0;31m         \u001b[0mrunprog\u001b[0m \u001b[0;34m=\u001b[0m \u001b[0;34mr'\"%s\"'\u001b[0m \u001b[0;34m%\u001b[0m \u001b[0mself\u001b[0m\u001b[0;34m.\u001b[0m\u001b[0m_get_prog\u001b[0m\u001b[0;34m(\u001b[0m\u001b[0mprog\u001b[0m\u001b[0;34m)\u001b[0m\u001b[0;34m\u001b[0m\u001b[0;34m\u001b[0m\u001b[0m\n\u001b[0m\u001b[1;32m   1373\u001b[0m         \u001b[0mcmd\u001b[0m \u001b[0;34m=\u001b[0m \u001b[0;34m\" \"\u001b[0m\u001b[0;34m.\u001b[0m\u001b[0mjoin\u001b[0m\u001b[0;34m(\u001b[0m\u001b[0;34m[\u001b[0m\u001b[0mrunprog\u001b[0m\u001b[0;34m,\u001b[0m \u001b[0margs\u001b[0m\u001b[0;34m]\u001b[0m\u001b[0;34m)\u001b[0m\u001b[0;34m\u001b[0m\u001b[0;34m\u001b[0m\u001b[0m\n\u001b[1;32m   1374\u001b[0m         \u001b[0mdotargs\u001b[0m \u001b[0;34m=\u001b[0m \u001b[0mshlex\u001b[0m\u001b[0;34m.\u001b[0m\u001b[0msplit\u001b[0m\u001b[0;34m(\u001b[0m\u001b[0mcmd\u001b[0m\u001b[0;34m)\u001b[0m\u001b[0;34m\u001b[0m\u001b[0;34m\u001b[0m\u001b[0m\n",
      "\u001b[0;32m~/opt/anaconda3/envs/comsocsci2022/lib/python3.8/site-packages/pygraphviz/agraph.py\u001b[0m in \u001b[0;36m_get_prog\u001b[0;34m(self, prog)\u001b[0m\n\u001b[1;32m   1356\u001b[0m             \u001b[0mrunprog\u001b[0m \u001b[0;34m=\u001b[0m \u001b[0mself\u001b[0m\u001b[0;34m.\u001b[0m\u001b[0m_which\u001b[0m\u001b[0;34m(\u001b[0m\u001b[0mprog\u001b[0m\u001b[0;34m)\u001b[0m\u001b[0;34m\u001b[0m\u001b[0;34m\u001b[0m\u001b[0m\n\u001b[1;32m   1357\u001b[0m         \u001b[0;32mexcept\u001b[0m\u001b[0;34m:\u001b[0m\u001b[0;34m\u001b[0m\u001b[0;34m\u001b[0m\u001b[0m\n\u001b[0;32m-> 1358\u001b[0;31m             \u001b[0;32mraise\u001b[0m \u001b[0mValueError\u001b[0m\u001b[0;34m(\u001b[0m\u001b[0;34mf\"Program {prog} not found in path.\"\u001b[0m\u001b[0;34m)\u001b[0m\u001b[0;34m\u001b[0m\u001b[0;34m\u001b[0m\u001b[0m\n\u001b[0m\u001b[1;32m   1359\u001b[0m \u001b[0;34m\u001b[0m\u001b[0m\n\u001b[1;32m   1360\u001b[0m         \u001b[0;32mreturn\u001b[0m \u001b[0mrunprog\u001b[0m\u001b[0;34m\u001b[0m\u001b[0;34m\u001b[0m\u001b[0m\n",
      "\u001b[0;31mValueError\u001b[0m: Program neato not found in path."
     ]
    }
   ],
   "source": [
    "from networkx.drawing.nx_pydot import write_dot\n",
    "pos = nx.nx_agraph.graphviz_layout(G)\n",
    "nx.draw(G, pos=pos)\n",
    "write_dot(G, 'file.dot')\n",
    "# saving in other file format\n",
    "# well"
   ]
  },
  {
   "cell_type": "markdown",
   "id": "3c74a212",
   "metadata": {},
   "source": [
    "See Drawing for additional details."
   ]
  }
 ],
 "metadata": {
  "kernelspec": {
   "display_name": "Python 3 (ipykernel)",
   "language": "python",
   "name": "python3"
  },
  "language_info": {
   "codemirror_mode": {
    "name": "ipython",
    "version": 3
   },
   "file_extension": ".py",
   "mimetype": "text/x-python",
   "name": "python",
   "nbconvert_exporter": "python",
   "pygments_lexer": "ipython3",
   "version": "3.8.12"
  }
 },
 "nbformat": 4,
 "nbformat_minor": 5
}
